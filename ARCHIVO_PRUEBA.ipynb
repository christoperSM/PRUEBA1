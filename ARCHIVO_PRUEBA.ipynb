{
 "cells": [
  {
   "cell_type": "code",
   "execution_count": 17,
   "metadata": {},
   "outputs": [
    {
     "name": "stdout",
     "output_type": "stream",
     "text": [
      "Este coche es de color azul, de la marca Ford y modelo Mustang del año 2020\n",
      "Este coche es de color rojo, de la marca Chevrolet y modelo Camaro del año 2019\n",
      "Este coche es de color negro, de la marca BMW y modelo x5 del año 2022\n",
      "Este coche es de color blanco, de la marca Audi y modelo A4 del año 2021\n"
     ]
    }
   ],
   "source": [
    "class coche:\n",
    "    def __init__(self, marca, modelo, año, color):\n",
    "        self.marca=marca\n",
    "        self.modelo=modelo\n",
    "        self.año=año\n",
    "        self.color=color\n",
    "    def descripcion (self):\n",
    "        print(f\"Este coche es de color {self.color}, de la marca {self.marca} y modelo {self.modelo} del año {self.año}\")\n",
    "        \n",
    "coche1=coche(\"Ford\", \"Mustang\", 2020, \"azul\")\n",
    "coche2=coche(\"Chevrolet\", \"Camaro\", 2019, \"rojo\")\n",
    "coche3=coche(\"BMW\", \"x5\", 2022, \"negro\")\n",
    "coche4=coche(\"Audi\", \"A4\", 2021, \"blanco\")\n",
    "\n",
    "coche1.descripcion()\n",
    "coche2.descripcion()\n",
    "coche3.descripcion()\n",
    "coche4.descripcion()"
   ]
  },
  {
   "cell_type": "code",
   "execution_count": 22,
   "metadata": {},
   "outputs": [
    {
     "name": "stdout",
     "output_type": "stream",
     "text": [
      "Bienvenido Dueño\n",
      "Tu capacidad es de 256\n"
     ]
    },
    {
     "data": {
      "text/plain": [
       "306"
      ]
     },
     "execution_count": 22,
     "metadata": {},
     "output_type": "execute_result"
    }
   ],
   "source": [
    "class App:\n",
    "    def __init__(self, usuarios, capacidad, nombreusuario):\n",
    "        self.usuarios=usuarios\n",
    "        self.capacidad=capacidad\n",
    "        self.nombreusuario=nombreusuario\n",
    "\n",
    "    def login(self):\n",
    "        if self.nombreusuario==\"Dueño\" and self.usuarios>=1:\n",
    "            print(f\"Bienvenido {self.nombreusuario}\")\n",
    "            print(f\"Tu capacidad es de {self.capacidad}\")\n",
    "\n",
    "    def incrementar(self,numero):\n",
    "        self.capacidad+=numero\n",
    "        return self.capacidad\n",
    "\n",
    "us1=App(35, 256, \"Dueño\")\n",
    "us1.login()\n",
    "us1.incrementar(50)\n",
    "\n",
    "#us2=App(40, 245, \"Alan\")\n",
    "#us2.login()\n",
    "\n"
   ]
  },
  {
   "cell_type": "code",
   "execution_count": 56,
   "metadata": {},
   "outputs": [],
   "source": [
    "class Animal:\n",
    "    def __init__(self,Nombre,Patas,Color):\n",
    "        self.Nombre = Nombre\n",
    "        self.Patas = Patas\n",
    "        self.Color = Color\n",
    "\n",
    "    def Descripcion(self):\n",
    "        return(f\"Soy un {self.Nombre}, tengo {self.Patas} patas, soy de color {self.Color}\")"
   ]
  },
  {
   "cell_type": "code",
   "execution_count": 57,
   "metadata": {},
   "outputs": [
    {
     "data": {
      "text/plain": [
       "'Soy un Perro, tengo 4 patas, soy de color gris'"
      ]
     },
     "execution_count": 57,
     "metadata": {},
     "output_type": "execute_result"
    }
   ],
   "source": [
    "an1 = Animal(\"Perro\", 4,\"gris\")\n",
    "an1.Descripcion()"
   ]
  },
  {
   "cell_type": "code",
   "execution_count": 61,
   "metadata": {},
   "outputs": [],
   "source": [
    "class Ave (Animal):\n",
    "    def __init__(self,Nombre,Patas,Color,Pico):\n",
    "        super().__init__(Nombre,Color,Patas)\n",
    "        self.Pico = Pico\n",
    "\n",
    "    def Tamaño_pico(self):\n",
    "       print(super().Descripcion()+f\" y mi pico mide{self.Pico} cm\")\n"
   ]
  },
  {
   "cell_type": "code",
   "execution_count": 63,
   "metadata": {},
   "outputs": [
    {
     "name": "stdout",
     "output_type": "stream",
     "text": [
      "Soy un Perico, tengo 2 patas, soy de color Azul\n",
      "Soy un Perico, tengo 2 patas, soy de color Azul y mi pico mide5 cm\n"
     ]
    }
   ],
   "source": [
    "an2 = Ave(\"Perico\",\"Azul\",2,5)\n",
    "print(an2.Descripcion())\n",
    "an2.Tamaño_pico()"
   ]
  },
  {
   "cell_type": "code",
   "execution_count": 68,
   "metadata": {},
   "outputs": [],
   "source": [
    "class Pez(Animal):\n",
    "    def __init__(self,Nombre,Patas,Color,Tamaño):\n",
    "        super().__init__(Nombre,Color,Patas)\n",
    "        self.Tamaño = Tamaño\n",
    "\n",
    "    def Que_tamaño(self):\n",
    "       print(super().Descripcion()+f\"y mido {self.Tamaño} cm\")"
   ]
  },
  {
   "cell_type": "code",
   "execution_count": 69,
   "metadata": {},
   "outputs": [
    {
     "name": "stdout",
     "output_type": "stream",
     "text": [
      "Soy un Pez, tengo 0 patas, soy de color Morado\n",
      "Soy un Pez, tengo 0 patas, soy de color Moradoy mido 15 cm\n"
     ]
    }
   ],
   "source": [
    "an3 = Pez(\"Pez\",\"Morado\",0,15)\n",
    "print(an3.Descripcion())\n",
    "an3.Que_tamaño()"
   ]
  },
  {
   "cell_type": "code",
   "execution_count": 73,
   "metadata": {},
   "outputs": [],
   "source": [
    "class Mamifero(Animal):\n",
    "    def __init__(self,Nombre,Patas,Color,Comer):\n",
    "        super().__init__(Nombre,Color,Patas)\n",
    "        self.Comer = Comer\n",
    "\n",
    "    def Que_Comer(self):\n",
    "       print(super().Descripcion()+f\" y como {self.Comer} cm\")"
   ]
  },
  {
   "cell_type": "code",
   "execution_count": 74,
   "metadata": {},
   "outputs": [
    {
     "name": "stdout",
     "output_type": "stream",
     "text": [
      "Soy un Jirafa, tengo 4 patas, soy de color Cafe\n",
      "Soy un Jirafa, tengo 4 patas, soy de color Cafe y como Plantas cm\n"
     ]
    }
   ],
   "source": [
    "an4 = Mamifero(\"Jirafa\",\"Cafe\",4,\"Plantas\")\n",
    "print(an4.Descripcion())\n",
    "an4.Que_Comer()"
   ]
  },
  {
   "cell_type": "code",
   "execution_count": 79,
   "metadata": {},
   "outputs": [],
   "source": [
    "class Persona:\n",
    "    def __init__(self,nombre,contacto):\n",
    "        self.nombre = nombre\n",
    "        self.contacto = contacto\n",
    "        self.listapersona=[]\n",
    "\n",
    "    def Registro(self,per1):\n",
    "        return listapersona.append(per1)\n",
    "            \n",
    "    def actualizarnombre(self, nombrenuevo):        \n",
    "        self.nombrenuevo = nombrenuevo\n",
    "        return self.nombre\n",
    "    def actualizarcontacto(self,contactonuevo):\n",
    "        self.contacto = contactonuevo\n",
    "        return self.contacto     "
   ]
  },
  {
   "cell_type": "code",
   "execution_count": 80,
   "metadata": {},
   "outputs": [
    {
     "name": "stdout",
     "output_type": "stream",
     "text": [
      "Lucy\n"
     ]
    },
    {
     "data": {
      "text/plain": [
       "'Lucy'"
      ]
     },
     "execution_count": 80,
     "metadata": {},
     "output_type": "execute_result"
    }
   ],
   "source": [
    "lucy=Persona(\"Lucy\",\"lucy32@buap.mx\")\n",
    "print(lucy.nombre)\n",
    "lucy.actualizarnombre(\"Gaby\")\n",
    "lucy.nombre"
   ]
  }
 ],
 "metadata": {
  "kernelspec": {
   "display_name": "Python 3",
   "language": "python",
   "name": "python3"
  },
  "language_info": {
   "codemirror_mode": {
    "name": "ipython",
    "version": 3
   },
   "file_extension": ".py",
   "mimetype": "text/x-python",
   "name": "python",
   "nbconvert_exporter": "python",
   "pygments_lexer": "ipython3",
   "version": "3.13.1"
  }
 },
 "nbformat": 4,
 "nbformat_minor": 2
}
